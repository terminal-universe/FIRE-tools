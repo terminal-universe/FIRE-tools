{
  "metadata": {
    "language_info": {
      "codemirror_mode": {
        "name": "python",
        "version": 3
      },
      "file_extension": ".py",
      "mimetype": "text/x-python",
      "name": "python",
      "nbconvert_exporter": "python",
      "pygments_lexer": "ipython3",
      "version": "3.8"
    },
    "kernelspec": {
      "name": "python",
      "display_name": "Python (Pyodide)",
      "language": "python"
    }
  },
  "nbformat_minor": 4,
  "nbformat": 4,
  "cells": [
    {
      "cell_type": "markdown",
      "source": "# Belastingdruk op schuld 2023\n\nEerst de constanten waarmee gerekend gaat worden:",
      "metadata": {}
    },
    {
      "cell_type": "code",
      "source": "fictional_roi_savings = 0.36 / 100\nfictional_roi_investments = 6.17 / 100\nfictional_roi_debts = 2.57 / 100\ndebts_threshold = 6_800\nduty_free_capital = 114_000\nincome_tax_box3_rate = 32 / 100",
      "metadata": {
        "trusted": true
      },
      "execution_count": null,
      "outputs": []
    },
    {
      "cell_type": "markdown",
      "source": "De variabelen:",
      "metadata": {}
    },
    {
      "cell_type": "code",
      "source": "start_savings = 10_000\nstart_investments = 140_000",
      "metadata": {
        "trusted": true
      },
      "execution_count": null,
      "outputs": []
    },
    {
      "cell_type": "markdown",
      "source": "Tabel maken met de belastingdruk op schuld (magin loan) voor verschillende groottes van hefboom en inleg bedragen",
      "metadata": {}
    },
    {
      "cell_type": "code",
      "source": "additional_investment_sizes = range(0, 500_001, 10_000)\nleverages = [1.25, 1.5, 1.75, 2.0]\n\nimport numpy as np\nvalues = np.empty((len(additional_investment_sizes)-1, 4))\n\nfor i, additional_investment in enumerate(additional_investment_sizes):\n    comparison_base = None\n    for j, leverage in enumerate([1.0] + leverages):\n        fictional_profit_savings = start_savings * fictional_roi_savings\n        \n        investments = start_investments + additional_investment * leverage\n        fictional_profit_investments = investments * fictional_roi_investments\n        \n        debts = additional_investment * (leverage - 1)\n        debts_base = max(debts - debts_threshold, 0)\n        fictional_costs_debts = debts_base * fictional_roi_debts\n        \n        total_fictional_profit_base = fictional_profit_savings + fictional_profit_investments - fictional_costs_debts\n        total_capital_base = start_savings + investments - debts_base\n        \n        total_fictional_profit = total_fictional_profit_base * (1 - duty_free_capital / total_capital_base)\n        income_tax_box3 = total_fictional_profit * income_tax_box3_rate\n        \n        if comparison_base is None:\n            comparison_base = income_tax_box3\n        else:\n            if debts:\n                tax_pressure_on_debt = (income_tax_box3 - comparison_base) / debts * 100\n                values[i-1,j-1] = tax_pressure_on_debt",
      "metadata": {
        "trusted": true
      },
      "execution_count": null,
      "outputs": []
    },
    {
      "cell_type": "code",
      "source": "from matplotlib import pyplot as plt\n\n# plt.style.use('default')\n\nfig, ax = plt.subplots(figsize=(12,6))\n\nax.plot(additional_investment_sizes[1:], values, linewidth=2.0, label=[f'{x}x leverage' for x in leverages])\nax.set(xlabel='add. investment size', ylabel='tax pressure on debt (%)',\n       title='Box 3 tax pressure on debt')\nax.grid()\nax.legend()\n\nplt.show()",
      "metadata": {
        "trusted": true
      },
      "execution_count": null,
      "outputs": []
    }
  ]
}
